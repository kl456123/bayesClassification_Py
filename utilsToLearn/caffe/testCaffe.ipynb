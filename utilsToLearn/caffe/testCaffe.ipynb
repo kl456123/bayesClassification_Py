{
 "cells": [
  {
   "cell_type": "code",
   "execution_count": 2,
   "metadata": {
    "collapsed": false
   },
   "outputs": [],
   "source": [
    "import caffe\n",
    "import numpy as np\n",
    "\n",
    "net = caffe.Net('conv.prototxt', caffe.TEST)\n",
    "\n",
    "# caffe.set_mode_cpu()\n",
    "# print(net.inputs)\n",
    "\n",
    "# net.blobs has activations\n",
    "# net.blobs['data']\n",
    "# net.blobs['conv']\n",
    "\n",
    "# print the info of the network\n",
    "\n",
    "info = [(k, v.data.shape) for k, v in net.blobs.items()]\n",
    "# caffe.set_mode_cpu()\n",
    "\n",
    "# output of each layers include input\n",
    "# for i in range(len(info)):\n",
    "# print('blobs_name', info[i][0])\n",
    "# print('blobs_datashape', info[i][1])\n",
    "\n",
    "\n",
    "# get parameters of network\n",
    "\n",
    "# net.params['conv'][0]\n",
    "# net.params['conv'][1]\n",
    "info_params = [(k, v[0].data.shape, v[1].data.shape)\n",
    "               for k, v in net.params.items()]\n",
    "\n",
    "# for i in range(len(info_params)):\n",
    "# print('params_name', info_params[i][0])\n",
    "# print('params_weigthsshape', info_params[i][1])\n",
    "# print('params_biasshape', info_params[i][1])\n",
    "\n",
    "\n",
    "# to see what the weights and bias like\n",
    "# take params['conv'][0] and [1] for example\n",
    "\n",
    "\n",
    "# print('params_name', ' conv')\n",
    "\n",
    "# print('params_weigths', net.params['conv'][0].data)\n",
    "# print('params_bias', net.params['conv'][1].data)\n",
    "\n",
    "# maybe can get it by layer\n",
    "# for _ in range(len(net._layer_names)):\n",
    "# print(net._layer_names[_])\n",
    "\n",
    "# the input layer and conv layer are both in it\n",
    "\n",
    "# for _ in range(len(info_layers)):\n",
    "# print(info_layers[_][0])\n",
    "# print(info_layers[_][1])\n",
    "\n",
    "# error out of range due to layers[0] is input layers that it has not parameters\n",
    "# print(net.layers[0].blobs[0])\n",
    "\n",
    "# weights and bias\n",
    "# print((net.layers[1].blobs[0].data))\n",
    "# print(net.layers[1].blobs[1].data)\n",
    "\n",
    "# more details about layers\n",
    "\n",
    "# print(dir(net.layers[1].blobs[0]))\n",
    "\n",
    "# check ... usage =-=\n",
    "array = np.array([1., 2.1, 3.2])\n",
    "array[...] = np.random.normal(0, 1, array.shape)\n",
    "# print(1 * array)\n",
    "\n",
    "# net.blobs['conv'].reshape((net.blobs['conv'].data.shape[0],-1))\n",
    "\n",
    "# print(net.blobs['conv'].data)\n"
   ]
  },
  {
   "cell_type": "code",
   "execution_count": 4,
   "metadata": {
    "collapsed": false
   },
   "outputs": [
    {
     "name": "stdout",
     "output_type": "stream",
     "text": [
      "OrderedDict([('input', []), ('conv', ['data'])])\n"
     ]
    }
   ],
   "source": [
    "# output tuple\n",
    "# OrderedDict([('input', []), ('conv', ['data'])])\n",
    "# bottom_names and top_names are both 2-D like array\n",
    "print(net.bottom_names)"
   ]
  },
  {
   "cell_type": "code",
   "execution_count": 5,
   "metadata": {
    "collapsed": false
   },
   "outputs": [
    {
     "name": "stdout",
     "output_type": "stream",
     "text": [
      "OrderedDict([('input', ['data']), ('conv', ['conv'])])\n"
     ]
    }
   ],
   "source": [
    "print(net.top_names)"
   ]
  },
  {
   "cell_type": "code",
   "execution_count": 23,
   "metadata": {
    "collapsed": false
   },
   "outputs": [
    {
     "data": {
      "text/plain": [
       "True"
      ]
     },
     "execution_count": 23,
     "metadata": {},
     "output_type": "execute_result"
    }
   ],
   "source": [
    "# weights is the same as input\n",
    "net.blobs['conv'].shape[1]==net.layers[1].blobs[0].shape[0]"
   ]
  },
  {
   "cell_type": "code",
   "execution_count": 32,
   "metadata": {
    "collapsed": false
   },
   "outputs": [
    {
     "data": {
      "text/plain": [
       "(3, 3)"
      ]
     },
     "execution_count": 32,
     "metadata": {},
     "output_type": "execute_result"
    }
   ],
   "source": [
    "dic = {'1':np.array([[1,2,3],[2,3,5]]),'2':np.array([2,4,6])}\n",
    "\n",
    "a = np.array([[1,2,3],[4,2,2],[4,3,5]])\n",
    "a.shape"
   ]
  },
  {
   "cell_type": "code",
   "execution_count": 37,
   "metadata": {
    "collapsed": false
   },
   "outputs": [
    {
     "data": {
      "text/plain": [
       "array([[ 1.2,  2.1],\n",
       "       [ 2.1,  3.1]])"
      ]
     },
     "execution_count": 37,
     "metadata": {},
     "output_type": "execute_result"
    }
   ],
   "source": [
    "1*np.array([[1.2,2.1],[2.1,3.1]])"
   ]
  },
  {
   "cell_type": "code",
   "execution_count": 43,
   "metadata": {
    "collapsed": false
   },
   "outputs": [
    {
     "data": {
      "text/plain": [
       "array([[1, 2],\n",
       "       [4, 6],\n",
       "       [1, 2]])"
      ]
     },
     "execution_count": 43,
     "metadata": {},
     "output_type": "execute_result"
    }
   ],
   "source": [
    "np.concatenate([[[1,2],[4,6]],[[1,2]]],axis=0)"
   ]
  },
  {
   "cell_type": "code",
   "execution_count": 45,
   "metadata": {
    "collapsed": false
   },
   "outputs": [
    {
     "ename": "AttributeError",
     "evalue": "'NoneType' object has no attribute 'shape'",
     "output_type": "error",
     "traceback": [
      "\u001b[0;31m---------------------------------------------------------------------------\u001b[0m",
      "\u001b[0;31mAttributeError\u001b[0m                            Traceback (most recent call last)",
      "\u001b[0;32m<ipython-input-45-409e1cdb9c22>\u001b[0m in \u001b[0;36m<module>\u001b[0;34m()\u001b[0m\n\u001b[1;32m      1\u001b[0m \u001b[0md\u001b[0m \u001b[0;34m=\u001b[0m \u001b[0;34m[\u001b[0m\u001b[0;34m]\u001b[0m\u001b[0;34m\u001b[0m\u001b[0m\n\u001b[0;32m----> 2\u001b[0;31m \u001b[0md\u001b[0m\u001b[0;34m.\u001b[0m\u001b[0mappend\u001b[0m\u001b[0;34m(\u001b[0m\u001b[0mnet\u001b[0m\u001b[0;34m.\u001b[0m\u001b[0mlayers\u001b[0m\u001b[0;34m[\u001b[0m\u001b[0;36m1\u001b[0m\u001b[0;34m]\u001b[0m\u001b[0;34m.\u001b[0m\u001b[0mblobs\u001b[0m\u001b[0;34m[\u001b[0m\u001b[0;36m0\u001b[0m\u001b[0;34m]\u001b[0m\u001b[0;34m.\u001b[0m\u001b[0mdata\u001b[0m\u001b[0;34m)\u001b[0m\u001b[0;34m.\u001b[0m\u001b[0mshape\u001b[0m\u001b[0;34m\u001b[0m\u001b[0m\n\u001b[0m",
      "\u001b[0;31mAttributeError\u001b[0m: 'NoneType' object has no attribute 'shape'"
     ]
    }
   ],
   "source": [
    "d = []\n",
    "d.append(net.layers[1].blobs[0].data).shape"
   ]
  }
 ],
 "metadata": {
  "anaconda-cloud": {},
  "kernelspec": {
   "display_name": "Python [conda root]",
   "language": "python",
   "name": "conda-root-py"
  },
  "language_info": {
   "codemirror_mode": {
    "name": "ipython",
    "version": 2
   },
   "file_extension": ".py",
   "mimetype": "text/x-python",
   "name": "python",
   "nbconvert_exporter": "python",
   "pygments_lexer": "ipython2",
   "version": "2.7.12"
  }
 },
 "nbformat": 4,
 "nbformat_minor": 1
}
