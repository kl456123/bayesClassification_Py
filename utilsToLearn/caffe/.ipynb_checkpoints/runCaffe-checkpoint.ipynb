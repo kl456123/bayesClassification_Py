{
 "cells": [
  {
   "cell_type": "code",
   "execution_count": 1,
   "metadata": {
    "collapsed": true
   },
   "outputs": [],
   "source": [
    "import caffe\n",
    "import numpy as np\n",
    "import matplotlib.pyplot as plt\n",
    "%matplotlib inline"
   ]
  },
  {
   "cell_type": "code",
   "execution_count": 2,
   "metadata": {
    "collapsed": true
   },
   "outputs": [],
   "source": [
    "net = caffe.Net('deploy.prototxt',caffe.TEST)"
   ]
  },
  {
   "cell_type": "code",
   "execution_count": 25,
   "metadata": {
    "collapsed": false
   },
   "outputs": [
    {
     "name": "stdout",
     "output_type": "stream",
     "text": [
      "data\n",
      "conv1\n",
      "('layer_conv1 bottom name: ', 'data')\n",
      "relu1\n",
      "('layer_relu1 bottom name: ', 'conv1')\n",
      "norm1\n",
      "('layer_norm1 bottom name: ', 'conv1')\n",
      "pool1\n",
      "('layer_pool1 bottom name: ', 'norm1')\n",
      "conv2\n",
      "('layer_conv2 bottom name: ', 'pool1')\n",
      "relu2\n",
      "('layer_relu2 bottom name: ', 'conv2')\n",
      "norm2\n",
      "('layer_norm2 bottom name: ', 'conv2')\n",
      "pool2\n",
      "('layer_pool2 bottom name: ', 'norm2')\n",
      "conv3\n",
      "('layer_conv3 bottom name: ', 'pool2')\n",
      "relu3\n",
      "('layer_relu3 bottom name: ', 'conv3')\n",
      "conv4\n",
      "('layer_conv4 bottom name: ', 'conv3')\n",
      "relu4\n",
      "('layer_relu4 bottom name: ', 'conv4')\n",
      "conv5\n",
      "('layer_conv5 bottom name: ', 'conv4')\n",
      "relu5\n",
      "('layer_relu5 bottom name: ', 'conv5')\n",
      "pool5\n",
      "('layer_pool5 bottom name: ', 'conv5')\n",
      "fc6\n",
      "('layer_fc6 bottom name: ', 'pool5')\n",
      "relu6\n",
      "('layer_relu6 bottom name: ', 'fc6')\n",
      "drop6\n",
      "('layer_drop6 bottom name: ', 'fc6')\n",
      "fc7\n",
      "('layer_fc7 bottom name: ', 'fc6')\n",
      "relu7\n",
      "('layer_relu7 bottom name: ', 'fc7')\n",
      "drop7\n",
      "('layer_drop7 bottom name: ', 'fc7')\n",
      "fc8\n",
      "('layer_fc8 bottom name: ', 'fc7')\n",
      "prob\n",
      "('layer_prob bottom name: ', 'fc8')\n"
     ]
    }
   ],
   "source": [
    "# net.layers[0].blobs>0\n",
    "\n",
    "for i ,(name,layer) in enumerate(zip(net._layer_names,net.layers)):\n",
    "    \n",
    "#     display all layers\n",
    "    print(name)\n",
    "    for bottom_name in net.bottom_names[name]:\n",
    "        \n",
    "        print('layer_%s bottom name: '%name,bottom_name)\n",
    "    if(len(net.bottom_names[name])>1):\n",
    "        print('True')\n",
    "#     parameters layers\n",
    "#     if(len(layer.blobs)>0):\n",
    "#         print(name)\n",
    "    "
   ]
  },
  {
   "cell_type": "code",
   "execution_count": 3,
   "metadata": {
    "collapsed": false
   },
   "outputs": [
    {
     "data": {
      "text/plain": [
       "array([[1, 2],\n",
       "       [2, 3],\n",
       "       [3, 4]])"
      ]
     },
     "execution_count": 3,
     "metadata": {},
     "output_type": "execute_result"
    }
   ],
   "source": [
    "arr = np.array([[1,2,3],[2,3,4]])\n",
    "arr.swapaxes(0,1)"
   ]
  },
  {
   "cell_type": "code",
   "execution_count": 4,
   "metadata": {
    "collapsed": false
   },
   "outputs": [
    {
     "data": {
      "text/plain": [
       "array([[1, 2, 3, 2, 6, 7],\n",
       "       [2, 3, 4, 8, 9, 5]])"
      ]
     },
     "execution_count": 4,
     "metadata": {},
     "output_type": "execute_result"
    }
   ],
   "source": [
    "arr2 = np.array([[2,6,7],[8,9,5]])\n",
    "np.concatenate([arr,arr2],axis=1)"
   ]
  },
  {
   "cell_type": "code",
   "execution_count": 5,
   "metadata": {
    "collapsed": false
   },
   "outputs": [
    {
     "name": "stdout",
     "output_type": "stream",
     "text": [
      "[[2 6 7]\n",
      " [8 9 5]]\n",
      "[[[2 6 7]\n",
      "  [8 9 5]]]\n",
      "[[[2 6 7]]\n",
      "\n",
      " [[8 9 5]]]\n",
      "[[[2]\n",
      "  [6]\n",
      "  [7]]\n",
      "\n",
      " [[8]\n",
      "  [9]\n",
      "  [5]]]\n"
     ]
    }
   ],
   "source": [
    "# np.concatenate([[[1,2]],[[2,3]],[[3,3]]],axis=1)\n",
    "print(arr2[:])\n",
    "print(arr2[None])\n",
    "print(arr2[:,None])\n",
    "print(arr2[:,:,None])"
   ]
  },
  {
   "cell_type": "code",
   "execution_count": 11,
   "metadata": {
    "collapsed": false
   },
   "outputs": [
    {
     "data": {
      "text/plain": [
       "()"
      ]
     },
     "execution_count": 11,
     "metadata": {},
     "output_type": "execute_result"
    }
   ],
   "source": [
    "def transform(D,W):\n",
    "    W, D = np.concatenate([w[:,None] for w in W], axis=1), np.concatenate([d[:,:,None] for d in D], axis=2)\n",
    "    return W.reshape((-1,)+W.shape[2:]), D.reshape((D.shape[0], -1)+D.shape[3:])"
   ]
  }
 ],
 "metadata": {
  "anaconda-cloud": {},
  "kernelspec": {
   "display_name": "Python [conda root]",
   "language": "python",
   "name": "conda-root-py"
  },
  "language_info": {
   "codemirror_mode": {
    "name": "ipython",
    "version": 2
   },
   "file_extension": ".py",
   "mimetype": "text/x-python",
   "name": "python",
   "nbconvert_exporter": "python",
   "pygments_lexer": "ipython2",
   "version": "2.7.12"
  }
 },
 "nbformat": 4,
 "nbformat_minor": 1
}
