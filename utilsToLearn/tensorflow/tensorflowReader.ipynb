{
 "cells": [
  {
   "cell_type": "code",
   "execution_count": 1,
   "metadata": {
    "collapsed": true
   },
   "outputs": [],
   "source": [
    "import tensorflow as tf\n",
    "import numpy as np\n",
    "import pandas as pd\n",
    "import matplotlib.pyplot as plt\n",
    "from PIL import Image\n",
    "%matplotlib inline"
   ]
  },
  {
   "cell_type": "markdown",
   "metadata": {},
   "source": [
    "* prepare all the things "
   ]
  },
  {
   "cell_type": "code",
   "execution_count": 2,
   "metadata": {
    "collapsed": true
   },
   "outputs": [],
   "source": [
    "tf.reset_default_graph()\n",
    "# sess = tf.InteractiveSession()\n",
    "IMAGEPATH = \"/home/breakpoint/software/caffe/data/flickr_style/images/*.jpg\""
   ]
  },
  {
   "cell_type": "code",
   "execution_count": null,
   "metadata": {
    "collapsed": false
   },
   "outputs": [],
   "source": [
    "# path to images\n",
    "IMAGEPATH = \"/home/breakpoint/software/caffe/data/flickr_style/images/*.jpg\"\n",
    "\n",
    "# filenames' queue of images\n",
    "filename_queue = tf.train.string_input_producer(\n",
    "    tf.train.match_filenames_once(IMAGEPATH))\n",
    "\n",
    "# how to load image\n",
    "image_reader = tf.WholeFileReader()\n",
    "\n",
    "key,image_file = image_reader.read(filename_queue)\n",
    "\n",
    "image = tf.image.decode_jpeg(image_file)\n",
    "\n",
    "# check the shape of image\n",
    "# conclude that the shape of every image is not the same \n",
    "\n",
    "\n",
    "# so resize image first\n",
    "height = 255\n",
    "width = 255\n",
    "\n",
    "resized_image = tf.image.resize_images(image,width,height)\n",
    "\n",
    "# resized_image.set_shape((width, height, 3))\n",
    "image_shape = tf.shape(resized_image)\n",
    "# some arguements to set\n",
    "# batch_size = 1\n",
    "\n",
    "# min_after_dequeue = 128\n",
    "# capacity = min_after_dequeue + 3 * batch_size\n",
    "\n",
    "# num_preprocess_threads = 3\n",
    "# image_batch = tf.train.shuffle_batch(\n",
    "#     [resized_image],\n",
    "#     batch_size=batch_size,\n",
    "#     capacity=capacity,\n",
    "#     num_threads=num_preprocess_threads,\n",
    "#     min_after_dequeue=min_after_dequeue)\n",
    "\n",
    "\n",
    "# run\n",
    "init = tf.initialize_all_variables()\n",
    "\n",
    "with tf.Session() as sess:\n",
    "    \n",
    "    init.run()\n",
    "\n",
    "    coord = tf.train.Coordinator()\n",
    "\n",
    "    threads = tf.train.start_queue_runners(coord=coord)\n",
    "\n",
    "#     image_tensor = resized_image.eval()\n",
    "    resized_image_tensor,shape_tensor,key_tensor = sess.run([resized_image,\n",
    "                                        image_shape,\n",
    "                                        key])\n",
    "    print(shape_tensor)\n",
    "    print(key_tensor)\n",
    "    print(resized_image_tensor.shape)\n",
    "#     image_tensor = sess.run(resized_image)\n",
    "    plt.imshow(Image.fromarray(resized_image_tensor))\n",
    "#     image_batch_tensor = image_batch.eval()\n",
    "\n",
    "#     image_batch_tensor = sess.run(image_batch)\n",
    "#     print(image_batch_tensor.shape)\n",
    "\n",
    "    # reduce threads\n",
    "    coord.request_stop()\n",
    "    coord.join(threads)"
   ]
  },
  {
   "cell_type": "code",
   "execution_count": 3,
   "metadata": {
    "collapsed": true
   },
   "outputs": [],
   "source": [
    "def generate_image(path2image,isBatch=False,resize=False):\n",
    "    IMAGEPATH = path2image\n",
    "\n",
    "    # filenames' queue of images\n",
    "    filename_queue = tf.train.string_input_producer(\n",
    "        tf.train.match_filenames_once(IMAGEPATH))\n",
    "\n",
    "    # how to load image\n",
    "    image_reader = tf.WholeFileReader()\n",
    "\n",
    "    key,image_file = image_reader.read(filename_queue)\n",
    "\n",
    "    image = tf.image.decode_jpeg(image_file)\n",
    "\n",
    "    # check the shape of image\n",
    "    # conclude that the shape of every image is not the same \n",
    "\n",
    "\n",
    "    # so resize image first\n",
    "    height = 255\n",
    "    width = 255\n",
    "    \n",
    "    if(resize):\n",
    "        \n",
    "        resized_image = tf.image.resize_images(image,width,height)\n",
    "\n",
    "        resized_image.set_shape((width, height, 3))\n",
    "        \n",
    "        return key,resized_image\n",
    "    \n",
    "    if(isBatch):\n",
    "        \n",
    "        # some arguements to set\n",
    "        batch_size = 1\n",
    "        \n",
    "        min_after_dequeue = 128\n",
    "        capacity = min_after_dequeue + 3 * batch_size\n",
    "\n",
    "        num_preprocess_threads = 3\n",
    "        image_batch = tf.train.shuffle_batch(\n",
    "            [resized_image],\n",
    "            batch_size=batch_size,\n",
    "            capacity=capacity,\n",
    "            num_threads=num_preprocess_threads,\n",
    "            min_after_dequeue=min_after_dequeue)\n",
    "        return key,image_batch\n",
    "        \n",
    "    return key,image\n"
   ]
  },
  {
   "cell_type": "code",
   "execution_count": null,
   "metadata": {
    "collapsed": false
   },
   "outputs": [],
   "source": [
    "def run(path2image,isBatch=False,resize=False,debug=True):\n",
    "    # run\n",
    "    init = tf.initialize_all_variables()\n",
    "\n",
    "    with tf.Session() as sess:\n",
    "    \n",
    "        init.run()\n",
    "\n",
    "        coord = tf.train.Coordinator()\n",
    "\n",
    "        threads = tf.train.start_queue_runners(coord=coord)\n",
    "\n",
    "        key,image_batch = generate_image(path2image)\n",
    "        image_name,image_batch_tensor = sess.run([key,image_batch])\n",
    "        \n",
    "#         if it is should show sth for debugging\n",
    "        if(debug):\n",
    "            print(image_batch_tensor.shape)\n",
    "            if(not isBatch):\n",
    "                print('display image:%s'%image_name)\n",
    "#                 note here image is not batched\n",
    "#                 plt.imshow(Image.fromarray(image_batch_tensor))\n",
    "                \n",
    "\n",
    "        # reduce threads\n",
    "        coord.request_stop()\n",
    "        coord.join(threads)"
   ]
  },
  {
   "cell_type": "code",
   "execution_count": null,
   "metadata": {
    "collapsed": true
   },
   "outputs": [],
   "source": [
    "# test function listed before\n",
    "run(IMAGEPATH)"
   ]
  },
  {
   "cell_type": "code",
   "execution_count": 4,
   "metadata": {
    "collapsed": true
   },
   "outputs": [],
   "source": [
    "_,image = generate_image(IMAGEPATH)"
   ]
  },
  {
   "cell_type": "code",
   "execution_count": null,
   "metadata": {
    "collapsed": true
   },
   "outputs": [],
   "source": [
    "with tf.Session() as sess:\n",
    "    tf.initialize_all_variables().run()\n",
    "    image_tensor = sess.run([image])\n",
    "    print(image_tensor.shape)"
   ]
  }
 ],
 "metadata": {
  "anaconda-cloud": {},
  "kernelspec": {
   "display_name": "Python [conda root]",
   "language": "python",
   "name": "conda-root-py"
  },
  "language_info": {
   "codemirror_mode": {
    "name": "ipython",
    "version": 2
   },
   "file_extension": ".py",
   "mimetype": "text/x-python",
   "name": "python",
   "nbconvert_exporter": "python",
   "pygments_lexer": "ipython2",
   "version": "2.7.12"
  }
 },
 "nbformat": 4,
 "nbformat_minor": 1
}
