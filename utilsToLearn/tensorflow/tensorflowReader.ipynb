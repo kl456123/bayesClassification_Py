{
 "cells": [
  {
   "cell_type": "code",
   "execution_count": 1,
   "metadata": {
    "collapsed": true
   },
   "outputs": [],
   "source": [
    "import tensorflow as tf\n",
    "import numpy as np\n",
    "import pandas as pd\n",
    "import matplotlib.pyplot as plt\n",
    "from PIL import Image\n",
    "%matplotlib inline"
   ]
  },
  {
   "cell_type": "markdown",
   "metadata": {},
   "source": [
    "* prepare all the things "
   ]
  },
  {
   "cell_type": "code",
   "execution_count": 2,
   "metadata": {
    "collapsed": true
   },
   "outputs": [],
   "source": [
    "tf.reset_default_graph()\n",
    "# sess = tf.InteractiveSession()\n",
    "IMAGEPATH = \"/home/breakpoint/software/caffe/data/flickr_style/images/*.jpg\""
   ]
  },
  {
   "cell_type": "code",
   "execution_count": 22,
   "metadata": {
    "collapsed": true
   },
   "outputs": [],
   "source": [
    "\n",
    "def preprocess(image,\n",
    "               height,\n",
    "               width):\n",
    "    # Image processing for training the network. Note the many random\n",
    "    # distortions applied to the image.\n",
    "#     key , image = read_images(filename_queue)\n",
    "    \n",
    "    reshaped_image  =tf.cast(image,tf.float32)\n",
    "    \n",
    "    # Randomly crop a [height, width] section of the image.\n",
    "    distorted_image = tf.random_crop(reshaped_image, [height, width, 3])\n",
    "\n",
    "    # Randomly flip the image horizontally.\n",
    "    distorted_image = tf.image.random_flip_left_right(distorted_image)\n",
    "\n",
    "    # Because these operations are not commutative, consider randomizing\n",
    "    # the order their operation.\n",
    "    distorted_image = tf.image.random_brightness(distorted_image,\n",
    "                                           max_delta=63)\n",
    "    distorted_image = tf.image.random_contrast(distorted_image,\n",
    "                                         lower=0.2, upper=1.8)\n",
    "\n",
    "    # Subtract off the mean and divide by the variance of the pixels.\n",
    "    float_image = tf.image.per_image_whitening(distorted_image)\n",
    "    return float_image\n",
    "\n",
    "\n",
    "def read_images(filename_queue,\n",
    "                height,width,\n",
    "                isFixdLength=False,\n",
    "                isProcess=False):\n",
    "    if(not isFixdLength):\n",
    "        image_reader = tf.WholeFileReader()\n",
    "    else:\n",
    "        print('not suppported now')\n",
    "    key,image_file = image_reader.read(filename_queue)\n",
    "\n",
    "#     encode image according to the type of image\n",
    "#     here encode jpg for example\n",
    "# here [height,width,depth]\n",
    "    image = tf.image.decode_jpeg(image_file,channels=3)\n",
    "    image = tf.cast(image,tf.uint8)\n",
    "#     image_bytes = tf.decode_raw(image_file,out_type=tf.uint8)\n",
    "#     image = tf.reshape(image_bytes,[3,])\n",
    "    if(isProcess):\n",
    "        processed_image = preprocess(image,\n",
    "                   height=height,\n",
    "                   width=width)\n",
    "        return key,processed_image\n",
    "    return key , image\n",
    "\n",
    "def generate_image(path2image,batch_size=None,isProcess=False):\n",
    "\n",
    "    # filenames' queue of images\n",
    "    filename_queue = tf.train.string_input_producer(\n",
    "        tf.train.match_filenames_once(path2image))\n",
    "\n",
    "#     default setting\n",
    "    height = 32\n",
    "    width = 32\n",
    "    \n",
    "#     choose if it should be preprocessed\n",
    "    key,float_image = read_images(filename_queue,\n",
    "                                 height=height,\n",
    "                                 width=width,\n",
    "                                 isProcess=isProcess)\n",
    "\n",
    "    if(batch_size):\n",
    "        \n",
    "        # some arguements to set\n",
    "        \n",
    "        min_after_dequeue = 128\n",
    "        capacity = min_after_dequeue + 3 * batch_size\n",
    "\n",
    "        num_preprocess_threads = 3\n",
    "        image_batch = tf.train.shuffle_batch(\n",
    "            [float_image],\n",
    "            batch_size=batch_size,\n",
    "            capacity=capacity,\n",
    "            num_threads=num_preprocess_threads,\n",
    "            min_after_dequeue=min_after_dequeue)\n",
    "        return key,image_batch\n",
    "        \n",
    "    return key,float_image"
   ]
  },
  {
   "cell_type": "code",
   "execution_count": 25,
   "metadata": {
    "collapsed": false
   },
   "outputs": [],
   "source": [
    "def run_test(path2image,\n",
    "        batch_size=None,\n",
    "        debug=True,\n",
    "        isProcess=False):\n",
    "    # run\n",
    "    with tf.Graph().as_default():\n",
    "\n",
    "        key,image_batch = generate_image(path2image,\n",
    "                                         batch_size=batch_size,\n",
    "                                         isProcess=isProcess)\n",
    "\n",
    "    #     image_shape = tf.shape(image_batch)\n",
    "\n",
    "\n",
    "        with tf.Session() as sess:\n",
    "    #         init must be placed below other construction of the graph\n",
    "            init = tf.initialize_all_variables()\n",
    "            init.run()\n",
    "\n",
    "            coord = tf.train.Coordinator()\n",
    "\n",
    "            threads = tf.train.start_queue_runners(coord=coord)\n",
    "\n",
    "\n",
    "            image_name,image_batch_tensor = sess.run([key,image_batch])\n",
    "    #         shape_tensor = sess.run([image_shape])\n",
    "    #         print(shape_tensor)\n",
    "    #         if it is should show sth for debugging\n",
    "            if(debug):\n",
    "                print(image_batch_tensor.shape)\n",
    "                if(not batch_size):\n",
    "                    print('display image:%s'%image_name)\n",
    "    #                 note here image is not batched\n",
    "\n",
    "                    if(not isProcess):\n",
    "                        plt.imshow(Image.fromarray(image_batch_tensor))\n",
    "                    else:\n",
    "                        print(image_batch_tensor)\n",
    "\n",
    "\n",
    "            # reduce threads\n",
    "            coord.request_stop()\n",
    "            coord.join(threads)"
   ]
  },
  {
   "cell_type": "code",
   "execution_count": 24,
   "metadata": {
    "collapsed": false
   },
   "outputs": [
    {
     "name": "stdout",
     "output_type": "stream",
     "text": [
      "(10, 32, 32, 3)\n"
     ]
    }
   ],
   "source": [
    "# test function listed before\n",
    "run_test(IMAGEPATH,\n",
    "    isProcess=True,\n",
    "    batch_size=10)"
   ]
  }
 ],
 "metadata": {
  "anaconda-cloud": {},
  "kernelspec": {
   "display_name": "Python [conda root]",
   "language": "python",
   "name": "conda-root-py"
  },
  "language_info": {
   "codemirror_mode": {
    "name": "ipython",
    "version": 2
   },
   "file_extension": ".py",
   "mimetype": "text/x-python",
   "name": "python",
   "nbconvert_exporter": "python",
   "pygments_lexer": "ipython2",
   "version": "2.7.12"
  }
 },
 "nbformat": 4,
 "nbformat_minor": 1
}
