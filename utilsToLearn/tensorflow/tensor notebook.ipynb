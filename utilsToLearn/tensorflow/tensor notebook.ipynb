{
 "cells": [
  {
   "cell_type": "markdown",
   "metadata": {},
   "source": [
    "## basic knowledge\n",
    "* Represents computations as graphs.\n",
    "* Executes graphs in the context of Sessions.\n",
    "* Represents data as tensors.\n",
    "* Maintains state with Variables.\n",
    "* Uses feeds and fetches to get data into and out of arbitrary operations.\n"
   ]
  },
  {
   "cell_type": "code",
   "execution_count": 1,
   "metadata": {
    "collapsed": true
   },
   "outputs": [],
   "source": [
    "import tensorflow as tf\n",
    "import numpy as np\n",
    "import pandas as pd\n",
    "import matplotlib\n",
    "%matplotlib inline"
   ]
  },
  {
   "cell_type": "markdown",
   "metadata": {},
   "source": [
    "### build graph\n",
    "*    So we should build the graph first\n",
    "    To build the graph start with ops that do not need any input and then pass their output to other ops that do\n",
    "    computation"
   ]
  },
  {
   "cell_type": "code",
   "execution_count": 15,
   "metadata": {
    "collapsed": false
   },
   "outputs": [],
   "source": [
    "# the ops add the default graph by default\n",
    "matrix1 = tf.constant([[2.,3.]])\n",
    "\n",
    "matrix2 = tf.constant([[2.,3.],[2.,3.]])\n",
    "\n",
    "product = tf.matmul(matrix1,matrix2)"
   ]
  },
  {
   "cell_type": "markdown",
   "metadata": {},
   "source": [
    "### launching graph \n",
    "*    To launch a graph ,create a session object.Without arguments session launch the default graph."
   ]
  },
  {
   "cell_type": "code",
   "execution_count": 16,
   "metadata": {
    "collapsed": false
   },
   "outputs": [
    {
     "name": "stdout",
     "output_type": "stream",
     "text": [
      "[[ 10.  15.]]\n"
     ]
    }
   ],
   "source": [
    "sess = tf.Session()\n",
    "\n",
    "result = sess.run(product)\n",
    "\n",
    "print(result)\n",
    "\n",
    "sess.close()"
   ]
  },
  {
   "cell_type": "markdown",
   "metadata": {},
   "source": [
    "### Interactive usage\n",
    "*    use it so that can avoids having to keep a variable holding the session\n",
    "*    use eval() for tensor and use run() for ops"
   ]
  },
  {
   "cell_type": "code",
   "execution_count": 19,
   "metadata": {
    "collapsed": false
   },
   "outputs": [
    {
     "name": "stderr",
     "output_type": "stream",
     "text": [
      "Exception AssertionError: AssertionError(\"Nesting violated for default stack of <type 'weakref'> objects\",) in <bound method InteractiveSession.__del__ of <tensorflow.python.client.session.InteractiveSession object at 0x7fb3def36dd0>> ignored\n"
     ]
    }
   ],
   "source": [
    "sess = tf.InteractiveSession()\n",
    "\n",
    "x = tf.Variable([1.,2.])\n",
    "\n",
    "a = tf.constant([3.,4.])\n",
    "\n",
    "# must initilize the variable\n",
    "x.initializer.run()\n",
    "\n",
    "# sub a from x\n",
    "sub = tf.sub(a,x)\n",
    "\n",
    "sub.eval()\n",
    "\n",
    "sess.close()"
   ]
  },
  {
   "cell_type": "markdown",
   "metadata": {},
   "source": [
    "### Variables\n",
    "*   Variables maintain state across executions of the graph. "
   ]
  },
  {
   "cell_type": "code",
   "execution_count": 31,
   "metadata": {
    "collapsed": false
   },
   "outputs": [
    {
     "name": "stdout",
     "output_type": "stream",
     "text": [
      "0\n",
      "1\n",
      "2\n",
      "3\n"
     ]
    }
   ],
   "source": [
    "# reset the graph\n",
    "tf.reset_default_graph()\n",
    "# counter\n",
    "state = tf.Variable(0,name=\"counter\")\n",
    "\n",
    "# constant\n",
    "one = tf.constant(1)\n",
    "\n",
    "# new state\n",
    "new_state = tf.add(state,one)\n",
    "\n",
    "# assign new_state to state\n",
    "# note that assign return the ref of state\n",
    "update = tf.assign(state,new_state)\n",
    "\n",
    "# init ops\n",
    "init = tf.initialize_all_variables()\n",
    "\n",
    "with tf.Session() as sess:\n",
    "#   initialize variable\n",
    "    sess.run(init)\n",
    "#   print the initial state  \n",
    "    \n",
    "    print(sess.run(state))\n",
    "\n",
    "#     update three times\n",
    "    for _ in range(3):\n",
    "        print(sess.run(update))"
   ]
  },
  {
   "cell_type": "markdown",
   "metadata": {},
   "source": [
    "*    you can also get multiple tensors just by pass in the array of tensors"
   ]
  },
  {
   "cell_type": "markdown",
   "metadata": {},
   "source": [
    "### feeds\n",
    "*    feeds temporarily replaces the output of the op with the tensor value.The common case is that load the data to\n",
    "train\n"
   ]
  },
  {
   "cell_type": "code",
   "execution_count": 38,
   "metadata": {
    "collapsed": false
   },
   "outputs": [
    {
     "name": "stdout",
     "output_type": "stream",
     "text": [
      "[array([[ 37.]], dtype=float32)]\n"
     ]
    }
   ],
   "source": [
    "tf.reset_default_graph()\n",
    "input1 = tf.placeholder(tf.float32,shape=[None,2])\n",
    "\n",
    "input2 = tf.placeholder(tf.float32,shape=[2,1])\n",
    "\n",
    "output = tf.matmul(input1,input2)\n",
    "\n",
    "with tf.Session() as sess:\n",
    "    res = sess.run([output],feed_dict={input1:[[4.,5.]],input2:[[3.],[5.]]})\n",
    "    print(res)"
   ]
  },
  {
   "cell_type": "markdown",
   "metadata": {},
   "source": [
    "### Others\n",
    "*    do some experiments"
   ]
  },
  {
   "cell_type": "code",
   "execution_count": 5,
   "metadata": {
    "collapsed": false
   },
   "outputs": [
    {
     "name": "stdout",
     "output_type": "stream",
     "text": [
      "0\n",
      "[ 1.23983097  1.13306868]\n"
     ]
    }
   ],
   "source": [
    "with tf.Session() as sess:\n",
    "    logits = tf.Variable([[0.2,0.3,0.5],[0.3,0.3,0.4]],name='logits')\n",
    "    labels = [0,1]\n",
    "    init = tf.initialize_all_variables()\n",
    "    sess.run(init)\n",
    "    \n",
    "    correct_number = tf.nn.in_top_k(logits,labels,1)\n",
    "    true = tf.reduce_sum(tf.cast(correct_number,tf.int32))\n",
    "    cross_entropy = tf.nn.sparse_softmax_cross_entropy_with_logits(logits,labels,\n",
    "                                                   name='xentropy')\n",
    "#     print(true)\n",
    "    print(sess.run(true))\n",
    "    print(sess.run(cross_entropy))"
   ]
  },
  {
   "cell_type": "markdown",
   "metadata": {},
   "source": [
    "* test assign and operator="
   ]
  },
  {
   "cell_type": "code",
   "execution_count": 22,
   "metadata": {
    "collapsed": false
   },
   "outputs": [
    {
     "name": "stdout",
     "output_type": "stream",
     "text": [
      "0.1\n",
      "0.1\n",
      "0.1\n",
      "0.1\n",
      "0.1\n",
      "0.1\n",
      "0.1\n",
      "0.1\n",
      "0.01\n",
      "0.01\n",
      "0.01\n",
      "0.01\n",
      "0.01\n",
      "0.01\n",
      "0.01\n",
      "0.01\n",
      "0.01\n",
      "0.01\n",
      "0.001\n",
      "0.001\n",
      "0.001\n",
      "0.001\n",
      "0.001\n",
      "0.001\n",
      "0.001\n",
      "0.001\n",
      "0.001\n",
      "0.001\n",
      "0.0001\n",
      "0.0001\n"
     ]
    }
   ],
   "source": [
    "# adaptive learning rate\n",
    "# not modify learning_rate_base just return the learning_rate_now for usage\n",
    "def learning_policy(learning_rate_base,global_step,decay_step,decay_rate):\n",
    "\n",
    "    decay_size = (global_step+1) / decay_step\n",
    "    learning_rate_now = learning_rate_base *tf.pow(decay_rate,tf.to_float(decay_size))  \n",
    "    return learning_rate_now\n",
    "    \n",
    "with tf.Session() as sess:\n",
    "    learning_rate_base = tf.Variable(0.1,dtype=tf.float32,name='learning_rate',trainable=False)\n",
    "    global_step = tf.Variable(0,name='global_step',dtype=tf.int64,trainable=False)\n",
    "    \n",
    "    global_step = tf.assign_add(global_step,1)\n",
    "    \n",
    "    learning_rate_now = learning_policy(learning_rate_base,\n",
    "                                       global_step,\n",
    "                                       10,\n",
    "                                       0.1)\n",
    "    init = tf.initialize_all_variables()\n",
    "    sess.run(init)\n",
    "    for _ in range(30):\n",
    "        print(sess.run(learning_rate_now))"
   ]
  },
  {
   "cell_type": "code",
   "execution_count": 19,
   "metadata": {
    "collapsed": true
   },
   "outputs": [],
   "source": [
    "tf.train.exponential_decay?"
   ]
  }
 ],
 "metadata": {
  "anaconda-cloud": {},
  "kernelspec": {
   "display_name": "Python [conda root]",
   "language": "python",
   "name": "conda-root-py"
  },
  "language_info": {
   "codemirror_mode": {
    "name": "ipython",
    "version": 2
   },
   "file_extension": ".py",
   "mimetype": "text/x-python",
   "name": "python",
   "nbconvert_exporter": "python",
   "pygments_lexer": "ipython2",
   "version": "2.7.12"
  }
 },
 "nbformat": 4,
 "nbformat_minor": 1
}
