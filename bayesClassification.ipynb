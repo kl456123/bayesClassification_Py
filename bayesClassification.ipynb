{
 "cells": [
  {
   "cell_type": "code",
   "execution_count": 10,
   "metadata": {
    "collapsed": true,
    "nbpresent": {
     "id": "77af9476-8cff-4899-9d83-60ff1337f26e"
    }
   },
   "outputs": [],
   "source": [
    "# import caffe\n",
    "# normal distribution\n",
    "from scipy.stats import norm"
   ]
  },
  {
   "cell_type": "code",
   "execution_count": 1,
   "metadata": {
    "collapsed": false,
    "nbpresent": {
     "id": "47c8c794-19b0-46c7-9a3a-79f5dfbaa460"
    }
   },
   "outputs": [],
   "source": [
    "# set up Python environment: numpy for numerical routines, and matplotlib for plotting\n",
    "import numpy as np\n",
    "import matplotlib.pyplot as plt\n",
    "# display plots in this notebook\n",
    "%matplotlib inline\n",
    "\n",
    "# set display defaults\n",
    "plt.rcParams['figure.figsize'] = (10, 10)        # large images\n",
    "plt.rcParams['image.interpolation'] = 'nearest'  # don't interpolate: show square pixels\n",
    "plt.rcParams['image.cmap'] = 'gray'  # use grayscale output rather than a (potentially misleading) color heatmap\n",
    "import pandas as pd"
   ]
  },
  {
   "cell_type": "code",
   "execution_count": 57,
   "metadata": {
    "collapsed": false,
    "nbpresent": {
     "id": "bec941e1-92a3-485e-9fcc-31dfc129ed46"
    }
   },
   "outputs": [],
   "source": [
    "names = ['age','workclass','fnlwgt','education','education-num','marital-status','occupation','relationship','race','sex','capital-gain','capital-loss','hours-per-week','native-country','label']\n",
    "trainData = pd.read_table('dataset/adult.data',names=names,sep=',',index_col=None)\n",
    "testData = pd.read_table('dataset/adult.test',names=names,sep=',',index_col=None,skiprows=1)"
   ]
  },
  {
   "cell_type": "code",
   "execution_count": 55,
   "metadata": {
    "collapsed": false,
    "nbpresent": {
     "id": "b85e6494-55b4-443a-8521-0886b8fc7708"
    },
    "scrolled": true
   },
   "outputs": [
    {
     "data": {
      "text/html": [
       "<div>\n",
       "<table border=\"1\" class=\"dataframe\">\n",
       "  <thead>\n",
       "    <tr style=\"text-align: right;\">\n",
       "      <th></th>\n",
       "      <th>age</th>\n",
       "      <th>workclass</th>\n",
       "      <th>fnlwgt</th>\n",
       "      <th>education</th>\n",
       "      <th>education-num</th>\n",
       "      <th>marital-status</th>\n",
       "      <th>occupation</th>\n",
       "      <th>relationship</th>\n",
       "      <th>race</th>\n",
       "      <th>sex</th>\n",
       "      <th>capital-gain</th>\n",
       "      <th>capital-loss</th>\n",
       "      <th>hours-per-week</th>\n",
       "      <th>native-country</th>\n",
       "      <th>label</th>\n",
       "    </tr>\n",
       "  </thead>\n",
       "  <tbody>\n",
       "    <tr>\n",
       "      <th>0</th>\n",
       "      <td>25</td>\n",
       "      <td>Private</td>\n",
       "      <td>226802</td>\n",
       "      <td>11th</td>\n",
       "      <td>7</td>\n",
       "      <td>Never-married</td>\n",
       "      <td>Machine-op-inspct</td>\n",
       "      <td>Own-child</td>\n",
       "      <td>Black</td>\n",
       "      <td>Male</td>\n",
       "      <td>0</td>\n",
       "      <td>0</td>\n",
       "      <td>40</td>\n",
       "      <td>United-States</td>\n",
       "      <td>&lt;=50K.</td>\n",
       "    </tr>\n",
       "    <tr>\n",
       "      <th>1</th>\n",
       "      <td>38</td>\n",
       "      <td>Private</td>\n",
       "      <td>89814</td>\n",
       "      <td>HS-grad</td>\n",
       "      <td>9</td>\n",
       "      <td>Married-civ-spouse</td>\n",
       "      <td>Farming-fishing</td>\n",
       "      <td>Husband</td>\n",
       "      <td>White</td>\n",
       "      <td>Male</td>\n",
       "      <td>0</td>\n",
       "      <td>0</td>\n",
       "      <td>50</td>\n",
       "      <td>United-States</td>\n",
       "      <td>&lt;=50K.</td>\n",
       "    </tr>\n",
       "    <tr>\n",
       "      <th>2</th>\n",
       "      <td>28</td>\n",
       "      <td>Local-gov</td>\n",
       "      <td>336951</td>\n",
       "      <td>Assoc-acdm</td>\n",
       "      <td>12</td>\n",
       "      <td>Married-civ-spouse</td>\n",
       "      <td>Protective-serv</td>\n",
       "      <td>Husband</td>\n",
       "      <td>White</td>\n",
       "      <td>Male</td>\n",
       "      <td>0</td>\n",
       "      <td>0</td>\n",
       "      <td>40</td>\n",
       "      <td>United-States</td>\n",
       "      <td>&gt;50K.</td>\n",
       "    </tr>\n",
       "    <tr>\n",
       "      <th>3</th>\n",
       "      <td>44</td>\n",
       "      <td>Private</td>\n",
       "      <td>160323</td>\n",
       "      <td>Some-college</td>\n",
       "      <td>10</td>\n",
       "      <td>Married-civ-spouse</td>\n",
       "      <td>Machine-op-inspct</td>\n",
       "      <td>Husband</td>\n",
       "      <td>Black</td>\n",
       "      <td>Male</td>\n",
       "      <td>7688</td>\n",
       "      <td>0</td>\n",
       "      <td>40</td>\n",
       "      <td>United-States</td>\n",
       "      <td>&gt;50K.</td>\n",
       "    </tr>\n",
       "    <tr>\n",
       "      <th>4</th>\n",
       "      <td>18</td>\n",
       "      <td>?</td>\n",
       "      <td>103497</td>\n",
       "      <td>Some-college</td>\n",
       "      <td>10</td>\n",
       "      <td>Never-married</td>\n",
       "      <td>?</td>\n",
       "      <td>Own-child</td>\n",
       "      <td>White</td>\n",
       "      <td>Female</td>\n",
       "      <td>0</td>\n",
       "      <td>0</td>\n",
       "      <td>30</td>\n",
       "      <td>United-States</td>\n",
       "      <td>&lt;=50K.</td>\n",
       "    </tr>\n",
       "  </tbody>\n",
       "</table>\n",
       "</div>"
      ],
      "text/plain": [
       "   age   workclass  fnlwgt      education  education-num       marital-status  \\\n",
       "0   25     Private  226802           11th              7        Never-married   \n",
       "1   38     Private   89814        HS-grad              9   Married-civ-spouse   \n",
       "2   28   Local-gov  336951     Assoc-acdm             12   Married-civ-spouse   \n",
       "3   44     Private  160323   Some-college             10   Married-civ-spouse   \n",
       "4   18           ?  103497   Some-college             10        Never-married   \n",
       "\n",
       "           occupation relationship    race      sex  capital-gain  \\\n",
       "0   Machine-op-inspct    Own-child   Black     Male             0   \n",
       "1     Farming-fishing      Husband   White     Male             0   \n",
       "2     Protective-serv      Husband   White     Male             0   \n",
       "3   Machine-op-inspct      Husband   Black     Male          7688   \n",
       "4                   ?    Own-child   White   Female             0   \n",
       "\n",
       "   capital-loss  hours-per-week  native-country    label  \n",
       "0             0              40   United-States   <=50K.  \n",
       "1             0              50   United-States   <=50K.  \n",
       "2             0              40   United-States    >50K.  \n",
       "3             0              40   United-States    >50K.  \n",
       "4             0              30   United-States   <=50K.  "
      ]
     },
     "execution_count": 55,
     "metadata": {},
     "output_type": "execute_result"
    }
   ],
   "source": [
    "testData.head()"
   ]
  },
  {
   "cell_type": "code",
   "execution_count": 14,
   "metadata": {
    "collapsed": false,
    "nbpresent": {
     "id": "331140c8-3bf3-459c-a57b-9ce9662603ac"
    }
   },
   "outputs": [
    {
     "name": "stdout",
     "output_type": "stream",
     "text": [
      "39\n",
      " State-gov\n",
      "77516\n",
      " Bachelors\n",
      "13\n",
      " Never-married\n",
      " Adm-clerical\n",
      " Not-in-family\n",
      " White\n",
      " Male\n",
      "2174\n",
      "0\n",
      "40\n",
      " United-States\n",
      " <=50K\n"
     ]
    }
   ],
   "source": [
    "for i in trainData.iloc[0]:\n",
    "    print i"
   ]
  },
  {
   "cell_type": "code",
   "execution_count": 206,
   "metadata": {
    "collapsed": false
   },
   "outputs": [],
   "source": [
    "class Data:\n",
    "    \n",
    "    def __init__(self,data,testData):\n",
    "#         data should be a table\n",
    "        self.trainData = data\n",
    "        self.testData = testData\n",
    "#     store all discrete attr (names)\n",
    "        self.discreteAttr = []\n",
    "#     the same as before(names)\n",
    "        self.continuousAttr = []\n",
    "    #         positive trainData\n",
    "        self.positiveTrainData = data[data['label']==' >50K']\n",
    "#         negative trainData\n",
    "        self.negativeTrainData = data[data['label']==' <=50K']\n",
    "#     length\n",
    "        self.length = len(data)\n",
    "#     negative samples\n",
    "        self.nLength = len(self.negativeTrainData)\n",
    "#     positive samples\n",
    "        self.pLength = self.length - self.nLength\n",
    "#     positive probability\n",
    "        self.positiveProbability = (float(self.pLength)+1)/(self.length + 2) #Laplacian correction\n",
    "#         negativeProbability\n",
    "        self.negativeProbability = 1 - self.positiveProbability\n",
    "\n",
    "    \n",
    "#         probability[attrValue][label]\n",
    "        self.probability = {}\n",
    "#     stores something like {'attrName':[[positivemean,positivestd],[negativemean,negativestd]]} for continuous attributions\n",
    "        self.continuousMessage={}\n",
    "    \n",
    "#     all attributions value\n",
    "# attr={'attrName':['all attr values(string)'],}\n",
    "        self.attrValues = {}\n",
    "\n",
    "\n",
    "    def initAttr(self):\n",
    "#         get one sample from data\n",
    "        one = self.trainData.loc[0]\n",
    "\n",
    "#      names of all attributions\n",
    "        names = one.index\n",
    "#         search for all continuous attributions and discretization\n",
    "#         for discrete attributions convert string to index\n",
    "        for i in range(names.size-1):\n",
    "#             check if it is descrete\n",
    "            if(type(one[i])==str):\n",
    "        \n",
    "                self.discreteAttr.append(names[i])\n",
    "            else:\n",
    "                self.continuousAttr.append(names[i])\n",
    "\n",
    "# for continuous attr and unnecesary to calculate its probability(lazy calculate)\n",
    "# So just store attrName , mean and std into  continueMessage\n",
    "    def discretization(self):\n",
    "#         for positive trainData\n",
    "#         and for negative trainData\n",
    "        for attr in self.continuousAttr:\n",
    "            _pdata = self.positiveTrainData[attr]\n",
    "            \n",
    "            p_u = _pdata.mean()\n",
    "            p_d = _pdata.std()\n",
    "            \n",
    "            _ndata = self.negativeTrainData[attr]\n",
    "            \n",
    "            n_u = _ndata.mean()\n",
    "            n_d = _ndata.std()\n",
    "            \n",
    "            self.continuousMessage[attr]=[[p_u,p_d],[n_u,n_d]]\n",
    "            \n",
    "\n",
    "            \n",
    "            \n",
    "# for one sample owns continuous atr\n",
    "#     def discretizationOne(self,continuousAttr):\n",
    "        \n",
    "            \n",
    "    \n",
    "#     convert discrete attr to number\n",
    "#     def discreteToNumer(self):\n",
    "#         pass\n",
    "    \n",
    "#     get self.attrValues\n",
    "    def discreteHandle(self):\n",
    "        for attr in self.discreteAttr:\n",
    "            self.attrValues[attr] = self.trainData[attr].unique()\n",
    "    \n",
    "#     def continuousHandle(self):\n",
    "        \n",
    "#         discretization()\n",
    "#         for attr in continuousAttr:\n",
    "#             self.attrValues[attr] = self.trainData[attr].unique()\n",
    "    \n",
    "#     just for discrete attribution\n",
    "    def calculateProbabilityAndSave(self):\n",
    "        attrValues = self.attrValues\n",
    "        for key in self.discreteAttr:\n",
    "            for attrValue in attrValues[key]:\n",
    "#                     0 for positive and 1 for negative\n",
    "#                 Laplacian correction\n",
    "                size = attrValues[key].size\n",
    "#                 nsize = self.negativeTrainData[key].unique().size\n",
    "#                 psize = size - nsize\n",
    "                p2 = (self.negativeTrainData[self.negativeTrainData[key]==attrValue].size+1)/(float(self.nLength)+size)                 \n",
    "                p1 = (self.positiveTrainData[self.positiveTrainData[key]==attrValue].size+1)/(float(self.pLength)+size)\n",
    "                self.probability[attrValue] = [p1,p2]\n",
    "    \n",
    "    def trainDataHandle(self):\n",
    "#         fisrt get continueAttr and discreteAttr\n",
    "        self.initAttr()\n",
    "    \n",
    "#     then handle discreteAttr and calculate probability of them\n",
    "\n",
    "        self.discreteHandle()#first get all attrValues in each attribution for discreteAttr\n",
    "    \n",
    "        self.calculateProbabilityAndSave()#then get probability[attrValues][label] = pro\n",
    "        \n",
    "#     And then handle continuousAttr(just calculate their mean and std)\n",
    "        self.discretization()\n",
    "    \n",
    "#     sample is a series\n",
    "    def predict(self,sample):\n",
    "    #     proMax = 0\n",
    "        positiveProbability = self.positiveProbability\n",
    "        p1 = positiveProbability\n",
    "        p2 = 1 - positiveProbability\n",
    "#        for discreteAttr\n",
    "\n",
    "#         for attrValue in sample:\n",
    "# #         check if it is discreteValue and label should not be calculated(exclude label)\n",
    "#             if(type(attrValue)!=str or attrValue==sample['label']):\n",
    "#                 continue\n",
    "        for attr in self.discreteAttr:\n",
    "            attrValue = sample[attr]\n",
    "            p1 *=self.probability[attrValue][0]\n",
    "            p2 *=self.probability[attrValue][1]\n",
    "#       for continuousAttr         \n",
    "        for attr in self.continuousAttr:\n",
    "            p1 *=norm.pdf(sample[attr],self.continuousMessage[attr][0][0],self.continuousMessage[attr][0][1])\n",
    "            p2 *=norm.pdf(sample[attr],self.continuousMessage[attr][1][0],self.continuousMessage[attr][1][1])\n",
    "        if(p1>p2):\n",
    "            return ' >50K',p1\n",
    "        else:\n",
    "            return ' <=50K',p1\n",
    "    def testDataHandle(self,iterator=None):\n",
    "        if(iterator==None):\n",
    "            iterator=len(self.testData)\n",
    "        error = 0\n",
    "        for i in range(iterator):\n",
    "            pred,p1 = self.predict(self.testData.iloc[i])\n",
    "#             print pred\n",
    "#             print(' >50K: ',p1)\n",
    "            pred+='.'\n",
    "            if(pred!=self.testData.iloc[i]['label']):\n",
    "                error+=1\n",
    "        errorRate = float(error)/iterator\n",
    "        print('error rate: ',errorRate)\n",
    "        return errorRate\n",
    "    \n",
    "    def debug(self):\n",
    "        print('positive sample size: ',self.pLength)\n",
    "        print('negative sample size: ',self.nLength)\n",
    "        \n",
    "#         print continuousAttr\n",
    "        print('continueAttr: ')\n",
    "        for attr in self.continuousAttr:\n",
    "            print(attr+' ')\n",
    "        print('\\n')\n",
    "#         print dsicreteAttr\n",
    "        print('discreteAttr: ')\n",
    "        for attr in self.discreteAttr:\n",
    "            print(attr+' ')\n",
    "\n",
    "        print('positiveProbability: ',self.positiveProbability)\n",
    "        print('negativeProbability: ',self.negativeProbability)\n",
    "        \n",
    "#         print continuousMessage\n",
    "        print('continuousMessage: ')\n",
    "        for attr in self.continuousAttr:\n",
    "        \n",
    "            print(self.continuousMessage[attr])\n",
    "        print('\\n')\n",
    "#         just calculate the probability of one sample(for example the first)\n",
    "        sample = trainData.iloc[0]\n",
    "\n",
    "        p2 = self.positiveProbability\n",
    "        print p2\n",
    "#         for discreteAttr\n",
    "#         for key in self.attrValues:\n",
    "            \n",
    "#             for attrValue in sample:\n",
    "#                 if(type(attrValue)!=str or attrValue==sample['label']):\n",
    "#                     continue\n",
    "#                 p2*=self.negativeTrainData[self.negativeTrainData[key]==attrValue].size/self.nLength\n",
    "#                 print(key,' ',p2)\n",
    "        for attr in self.attrValues:\n",
    "            p2*=len(self.negativeTrainData[self.negativeTrainData[attr]==sample[attr]])/float(self.nLength)\n",
    "\n",
    "#         for continuousAttr\n",
    "        for attr in self.continuousAttr:\n",
    "            p2 *=norm.pdf(sample[attr],self.continuousMessage[attr][1][0],self.continuousMessage[attr][1][1])\n",
    "        print('p2: ',p2)"
   ]
  },
  {
   "cell_type": "code",
   "execution_count": 207,
   "metadata": {
    "collapsed": false
   },
   "outputs": [],
   "source": [
    "data = Data(trainData,testData)\n",
    "data.trainDataHandle()\n"
   ]
  },
  {
   "cell_type": "code",
   "execution_count": 208,
   "metadata": {
    "collapsed": false
   },
   "outputs": [
    {
     "name": "stdout",
     "output_type": "stream",
     "text": [
      "('positive sample size: ', 7841)\n",
      "('negative sample size: ', 24720)\n",
      "continueAttr: \n",
      "age \n",
      "fnlwgt \n",
      "education-num \n",
      "capital-gain \n",
      "capital-loss \n",
      "hours-per-week \n",
      "\n",
      "\n",
      "discreteAttr: \n",
      "workclass \n",
      "education \n",
      "marital-status \n",
      "occupation \n",
      "relationship \n",
      "race \n",
      "sex \n",
      "native-country \n",
      "('positiveProbability: ', 0.24082547676811106)\n",
      "('negativeProbability: ', 0.7591745232318889)\n",
      "continuousMessage: \n",
      "[[44.24984058155847, 10.51902771985177], [36.78373786407767, 14.020088490824813]]\n",
      "[[188005.0, 102541.77547230694], [190340.8651699029, 106482.27119468113]]\n",
      "[[11.611656676444332, 2.3851286326651047], [9.595064724919094, 2.4361467923086515]]\n",
      "[[4006.142456319347, 14570.378951280984], [148.75246763754046, 963.1393073648252]]\n",
      "[[195.00153041703865, 595.4875739786504], [53.14292071197411, 310.7557690957039]]\n",
      "[[45.473026399693914, 11.012970930209358], [38.840210355987054, 12.318994641854317]]\n",
      "\n",
      "\n",
      "0.240825476768\n",
      "('p2: ', 5.9866207016993444e-23)\n"
     ]
    }
   ],
   "source": [
    "data.debug()"
   ]
  },
  {
   "cell_type": "code",
   "execution_count": 209,
   "metadata": {
    "collapsed": false
   },
   "outputs": [
    {
     "name": "stdout",
     "output_type": "stream",
     "text": [
      "('error rate: ', 0.16872427983539096)\n"
     ]
    },
    {
     "data": {
      "text/plain": [
       "0.16872427983539096"
      ]
     },
     "execution_count": 209,
     "metadata": {},
     "output_type": "execute_result"
    }
   ],
   "source": [
    "# trainData.head(1)\n",
    "data.testDataHandle()"
   ]
  },
  {
   "cell_type": "code",
   "execution_count": 99,
   "metadata": {
    "collapsed": false
   },
   "outputs": [
    {
     "name": "stdout",
     "output_type": "stream",
     "text": [
      "(1, 2)\n"
     ]
    }
   ],
   "source": [
    "t = (1,2)\n",
    "print(t)"
   ]
  },
  {
   "cell_type": "code",
   "execution_count": 153,
   "metadata": {
    "collapsed": false
   },
   "outputs": [
    {
     "data": {
      "text/plain": [
       "0.03822815533980582"
      ]
     },
     "execution_count": 153,
     "metadata": {},
     "output_type": "execute_result"
    }
   ],
   "source": [
    "negativeTrainData = trainData[trainData['label']==' <=50K']\n",
    "sample = trainData.iloc[0]\n",
    "float(negativeTrainData[negativeTrainData['workclass']==sample['workclass']].size)/negativeTrainData.size"
   ]
  },
  {
   "cell_type": "code",
   "execution_count": 135,
   "metadata": {
    "collapsed": false
   },
   "outputs": [
    {
     "name": "stdout",
     "output_type": "stream",
     "text": [
      "370800 14175\n"
     ]
    }
   ],
   "source": [
    "print negativeTrainData.size,negativeTrainData[negativeTrainData['workclass']==sample['workclass']].size"
   ]
  },
  {
   "cell_type": "code",
   "execution_count": 157,
   "metadata": {
    "collapsed": false
   },
   "outputs": [
    {
     "data": {
      "text/plain": [
       "pandas.indexes.base.Index"
      ]
     },
     "execution_count": 157,
     "metadata": {},
     "output_type": "execute_result"
    }
   ],
   "source": [
    "type(sample.index)"
   ]
  },
  {
   "cell_type": "code",
   "execution_count": 164,
   "metadata": {
    "collapsed": false
   },
   "outputs": [
    {
     "name": "stdout",
     "output_type": "stream",
     "text": [
      "1\n"
     ]
    }
   ],
   "source": [
    "def d(a=1):\n",
    "    print a\n",
    "d()"
   ]
  },
  {
   "cell_type": "code",
   "execution_count": 201,
   "metadata": {
    "collapsed": false
   },
   "outputs": [
    {
     "data": {
      "text/plain": [
       "5"
      ]
     },
     "execution_count": 201,
     "metadata": {},
     "output_type": "execute_result"
    }
   ],
   "source": [
    "# testData.size\n",
    "a = testData.head()\n",
    "len(a)"
   ]
  },
  {
   "cell_type": "code",
   "execution_count": null,
   "metadata": {
    "collapsed": true
   },
   "outputs": [],
   "source": []
  }
 ],
 "metadata": {
  "kernelspec": {
   "display_name": "Python [Root]",
   "language": "python",
   "name": "Python [Root]"
  },
  "language_info": {
   "codemirror_mode": {
    "name": "ipython",
    "version": 2
   },
   "file_extension": ".py",
   "mimetype": "text/x-python",
   "name": "python",
   "nbconvert_exporter": "python",
   "pygments_lexer": "ipython2",
   "version": "2.7.12"
  },
  "nbpresent": {
   "slides": {
    "dd3079e0-d188-4cdd-b3d6-2132c64b25cc": {
     "id": "dd3079e0-d188-4cdd-b3d6-2132c64b25cc",
     "prev": null,
     "regions": {
      "2ec73c0f-d3d2-40b1-a731-45d653f789a1": {
       "attrs": {
        "height": 0.8,
        "width": 0.45,
        "x": 0.05,
        "y": 0.1
       },
       "id": "2ec73c0f-d3d2-40b1-a731-45d653f789a1"
      },
      "89d829c1-c052-407c-a169-ab15e0b68167": {
       "attrs": {
        "height": 0.8,
        "width": 0.45,
        "x": 0.5,
        "y": 0.1
       },
       "id": "89d829c1-c052-407c-a169-ab15e0b68167"
      }
     }
    }
   },
   "themes": {}
  }
 },
 "nbformat": 4,
 "nbformat_minor": 0
}
