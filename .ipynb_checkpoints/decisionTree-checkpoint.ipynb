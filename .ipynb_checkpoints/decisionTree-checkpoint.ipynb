{
 "cells": [
  {
   "cell_type": "code",
   "execution_count": 1,
   "metadata": {
    "collapsed": false
   },
   "outputs": [
    {
     "name": "stdout",
     "output_type": "stream",
     "text": [
      "Using matplotlib backend: Qt4Agg\n",
      "Populating the interactive namespace from numpy and matplotlib\n"
     ]
    }
   ],
   "source": [
    "%pylab\n",
    "%matplotlib inline"
   ]
  },
  {
   "cell_type": "code",
   "execution_count": 2,
   "metadata": {
    "collapsed": false
   },
   "outputs": [],
   "source": [
    "class Sample:\n",
    "    def __init__(self):\n",
    "        self.data={}\n",
    "        self.lable=None\n",
    "    def __setitem__(self,key,value):\n",
    "        self.data[key]=value\n",
    "    def __getitem__(self,key):\n",
    "        return self.data[key]\n",
    "    def keys(self):\n",
    "        return self.data.keys()\n",
    "    def __str__(self):\n",
    "        return str(self.data)+'--lable-'+str(self.lable)"
   ]
  },
  {
   "cell_type": "code",
   "execution_count": 3,
   "metadata": {
    "collapsed": true
   },
   "outputs": [],
   "source": [
    "def lable0(sample):\n",
    "    return sample.lable==0\n",
    "def lable1(sample):\n",
    "    return sample.lable==1"
   ]
  },
  {
   "cell_type": "code",
   "execution_count": 104,
   "metadata": {
    "collapsed": false
   },
   "outputs": [],
   "source": [
    "import copy\n",
    "class Dataset:\n",
    "    def __init__(self):\n",
    "        self.data=[]\n",
    "        self.ks=[]\n",
    "    def __getitem__(self,index):\n",
    "        return self.data[index]\n",
    "    def append(self,sample):\n",
    "        self.data.append(sample)\n",
    "        for k in sample.data.keys():\n",
    "            if k not in self.ks:\n",
    "                self.ks.append(k)\n",
    "    def __str__(self):\n",
    "        listOfSample=[]\n",
    "        for sample in self.data:\n",
    "            SampleOne = str(sample)+'\\n'\n",
    "            listOfSample.append(SampleOne)\n",
    "        return '\\n'.join(listOfSample)+'\\n'\n",
    "    def __len__(self):\n",
    "        return len(self.data)\n",
    "    def count(self,pred):\n",
    "        cot=0\n",
    "        for sample in self:\n",
    "            if(pred(sample)):\n",
    "                cot+=1\n",
    "        return cot\n",
    "    def split(self,key,val):\n",
    "#         split dataset according to feature \n",
    "        dataset = Dataset() \n",
    "        for sample in self:\n",
    "            if(sample[key]==val):\n",
    "                dataset.append(sample)\n",
    "        dataset.ks=copy.deepcopy(self.ks) \n",
    "#         print(dataset.ks)\n",
    "        dataset.ks.remove(key)\n",
    "        return dataset\n",
    "    \n",
    "    def canSplit(self):\n",
    "        if(len(self.ks)==0):\n",
    "            return False\n",
    "        return True\n",
    "    def valsIssame(self):\n",
    "        first = self[0]\n",
    "        for sample in self:\n",
    "            for key in self.ks:\n",
    "                if(sample[key]!=first[key]):\n",
    "                    return False\n",
    "        return True\n",
    "#     def lableIssame(self):\n",
    "#         first = self[0]\n",
    "#         for sample in self:\n",
    "#             if(first.lable!=sample.lable):\n",
    "#                 return Fa\n",
    "#     all the same so that no necessary to split\n",
    "    def needSplit(self):\n",
    "        if(self.valsIssame(self)):\n",
    "            return False\n",
    "        else:\n",
    "            return True\n",
    "    def majorityVote(self):\n",
    "        n0 = self.count(label0)\n",
    "        n1 = self.count(label1)\n",
    "        if n0<n1 :\n",
    "            return 1\n",
    "        else:\n",
    "            return 0"
   ]
  },
  {
   "cell_type": "code",
   "execution_count": 91,
   "metadata": {
    "collapsed": true
   },
   "outputs": [],
   "source": [
    "class Filler:\n",
    "    def filler(self):\n",
    "        pass\n",
    "import random\n",
    "class RandomFiller(Filler):\n",
    "    def __init__(self):\n",
    "        self.begin=0\n",
    "        self.end=4\n",
    "        self.nfeat=2\n",
    "        self.nsample=20\n",
    "    def fillOne(self,sample):\n",
    "        for i in range(self.nfeat):\n",
    "            sample[i]=random.randint(self.begin,self.end)\n",
    "        sample.lable=random.randint(0,1)\n",
    "    def fillDataset(self,dataset):\n",
    "        for i in range(self.nsample):\n",
    "            sample=Sample()\n",
    "            self.fillOne(sample)\n",
    "            dataset.append(sample)\n"
   ]
  },
  {
   "cell_type": "code",
   "execution_count": 92,
   "metadata": {
    "collapsed": false
   },
   "outputs": [
    {
     "name": "stdout",
     "output_type": "stream",
     "text": [
      "{0: 1, 1: 0}--lable-1\n",
      "[0, 1]\n"
     ]
    }
   ],
   "source": [
    "sample = Sample()\n",
    "f=RandomFiller()\n",
    "f.fillOne(sample)\n",
    "print(sample)\n",
    "print(sample.data.keys())"
   ]
  },
  {
   "cell_type": "code",
   "execution_count": 93,
   "metadata": {
    "collapsed": false
   },
   "outputs": [
    {
     "name": "stdout",
     "output_type": "stream",
     "text": [
      "{0: 0, 1: 0}--lable-1\n",
      "\n",
      "{0: 4, 1: 4}--lable-0\n",
      "\n",
      "{0: 0, 1: 4}--lable-0\n",
      "\n",
      "{0: 4, 1: 1}--lable-1\n",
      "\n",
      "{0: 0, 1: 0}--lable-0\n",
      "\n",
      "{0: 2, 1: 1}--lable-1\n",
      "\n",
      "{0: 1, 1: 1}--lable-0\n",
      "\n",
      "{0: 1, 1: 1}--lable-0\n",
      "\n",
      "{0: 1, 1: 1}--lable-1\n",
      "\n",
      "{0: 3, 1: 2}--lable-1\n",
      "\n",
      "{0: 2, 1: 0}--lable-0\n",
      "\n",
      "{0: 0, 1: 2}--lable-1\n",
      "\n",
      "{0: 2, 1: 0}--lable-0\n",
      "\n",
      "{0: 0, 1: 1}--lable-1\n",
      "\n",
      "{0: 4, 1: 1}--lable-0\n",
      "\n",
      "{0: 4, 1: 0}--lable-1\n",
      "\n",
      "{0: 0, 1: 3}--lable-1\n",
      "\n",
      "{0: 3, 1: 3}--lable-0\n",
      "\n",
      "{0: 4, 1: 1}--lable-0\n",
      "\n",
      "{0: 1, 1: 1}--lable-0\n",
      "\n",
      "\n"
     ]
    }
   ],
   "source": [
    "dataset = Dataset()\n",
    "f.fillDataset(dataset)\n",
    "print(dataset)"
   ]
  },
  {
   "cell_type": "code",
   "execution_count": 94,
   "metadata": {
    "collapsed": false
   },
   "outputs": [
    {
     "name": "stdout",
     "output_type": "stream",
     "text": [
      "[0, 1]\n"
     ]
    }
   ],
   "source": [
    "print(dataset.ks)"
   ]
  },
  {
   "cell_type": "code",
   "execution_count": 105,
   "metadata": {
    "collapsed": true
   },
   "outputs": [],
   "source": [
    "import math\n",
    "def calEntropy(dataset):\n",
    "    nl0 = dataset.count(lable0)\n",
    "    nl1 = dataset.count(lable1)\n",
    "    if nl0==0 or nl1==0:\n",
    "        return 0\n",
    "    n = len(dataset)\n",
    "    p0 = float(nl0)/n\n",
    "    p1 = float(nl1)/n\n",
    "    print('p0 : '+str(p0))\n",
    "    print('p1 : '+str(p1))\n",
    "    return -(p0 * math.log(p0)+p1 * math.log(p1))\n",
    "def getVals(dataset,key):\n",
    "    sets=[]\n",
    "    for sample in dataset:\n",
    "        if sample[key] not in sets:\n",
    "            sets.append(sample[key])\n",
    "    return sets\n",
    "def getNumForVals(dataset,key,val):\n",
    "    nums=0\n",
    "    for sample in dataset:\n",
    "        if(sample[key]==val):\n",
    "            nums+=1\n",
    "    return nums\n",
    "def calGain(dataset,key):\n",
    "    newEntropy=0\n",
    "    sets = getVals(dataset,key)\n",
    "    oldEntropy = calEntropy(dataset)\n",
    "    n = len(dataset)\n",
    "    for val in sets:\n",
    "        newDataset = dataset.split(key,val)\n",
    "        nums = getNumForVals(dataset,key,val)\n",
    "        p = float(nums)/n\n",
    "        newEntropy += p * calEntropy(newDataset)\n",
    "    return oldEntropy - newEntropy"
   ]
  },
  {
   "cell_type": "code",
   "execution_count": 117,
   "metadata": {
    "collapsed": false,
    "scrolled": true
   },
   "outputs": [
    {
     "name": "stdout",
     "output_type": "stream",
     "text": [
      "---key0----\n",
      "{0: 0, 1: 0}--lable-1\n",
      "\n",
      "{0: 0, 1: 4}--lable-0\n",
      "\n",
      "{0: 0, 1: 0}--lable-0\n",
      "\n",
      "{0: 0, 1: 2}--lable-1\n",
      "\n",
      "{0: 0, 1: 1}--lable-1\n",
      "\n",
      "{0: 0, 1: 3}--lable-1\n",
      "\n",
      "\n",
      "{0: 4, 1: 4}--lable-0\n",
      "\n",
      "{0: 4, 1: 1}--lable-1\n",
      "\n",
      "{0: 4, 1: 1}--lable-0\n",
      "\n",
      "{0: 4, 1: 0}--lable-1\n",
      "\n",
      "{0: 4, 1: 1}--lable-0\n",
      "\n",
      "\n",
      "{0: 2, 1: 1}--lable-1\n",
      "\n",
      "{0: 2, 1: 0}--lable-0\n",
      "\n",
      "{0: 2, 1: 0}--lable-0\n",
      "\n",
      "\n",
      "{0: 1, 1: 1}--lable-0\n",
      "\n",
      "{0: 1, 1: 1}--lable-0\n",
      "\n",
      "{0: 1, 1: 1}--lable-1\n",
      "\n",
      "{0: 1, 1: 1}--lable-0\n",
      "\n",
      "\n",
      "{0: 3, 1: 2}--lable-1\n",
      "\n",
      "{0: 3, 1: 3}--lable-0\n",
      "\n",
      "\n",
      "p0 : 0.55\n",
      "p1 : 0.45\n",
      "p0 : 0.333333333333\n",
      "p1 : 0.666666666667\n",
      "p0 : 0.6\n",
      "p1 : 0.4\n",
      "p0 : 0.666666666667\n",
      "p1 : 0.333333333333\n",
      "p0 : 0.75\n",
      "p1 : 0.25\n",
      "p0 : 0.5\n",
      "p1 : 0.5\n",
      "0.0516727742489\n",
      "p0 : 0.55\n",
      "p1 : 0.45\n",
      "p0 : 0.6\n",
      "p1 : 0.4\n",
      "p0 : 0.555555555556\n",
      "p1 : 0.444444444444\n",
      "p0 : 0.5\n",
      "p1 : 0.5\n",
      "0.141438469436\n"
     ]
    }
   ],
   "source": [
    "#test data.split()\n",
    "print('---key0----')\n",
    "sets = getVals(dataset,0)\n",
    "for val in sets:\n",
    "    _data = dataset.split(0,val)\n",
    "    print(_data)\n",
    "# print('---key1-----')\n",
    "# sets = getVals(dataset,1)\n",
    "# for val in sets:\n",
    "#     _data = dataset.split(1,val)\n",
    "#     print(_data)\n",
    "# # test math function\n",
    "# entropy = calEntropy(dataset)\n",
    "# print(entropy) #pass\n",
    "# sets = getVals(dataset,0) \n",
    "# print(sets) #pass\n",
    "# print(calEntropy(_data))\n",
    "print(calGain(dataset,0))\n",
    "print(calGain(dataset,1))"
   ]
  },
  {
   "cell_type": "code",
   "execution_count": null,
   "metadata": {
    "collapsed": true
   },
   "outputs": [],
   "source": []
  },
  {
   "cell_type": "code",
   "execution_count": 119,
   "metadata": {
    "collapsed": true
   },
   "outputs": [],
   "source": [
    "class DTNode:\n",
    "    def __init__(self):\n",
    "        self.key=None\n",
    "        self.val=None\n",
    "        self.data=Dataset()\n",
    "#         self.parent=None\n",
    "        self.children=[]"
   ]
  },
  {
   "cell_type": "code",
   "execution_count": 120,
   "metadata": {
    "collapsed": false
   },
   "outputs": [],
   "source": [
    "class Model:\n",
    "    def build(self):\n",
    "        pass\n",
    "    \n",
    "class DTModel(Model):\n",
    "    def __init__(self):\n",
    "        DTRoot = DTNode()\n",
    "#         set feature of root to -1 \n",
    "        DTRoot.key=-1\n",
    "        DTRoot.val=-1\n",
    "        self.DTRoot=DTRoot\n",
    "    def build(self,parentNode):\n",
    "        data = parentNode.data\n",
    "        if(not data.needSplit()):\n",
    "            return\n",
    "        maxGain=0\n",
    "        for key in data.ks:\n",
    "            nowGain=calGain(data,key)\n",
    "            if(nowGain > maxGain):\n",
    "                maxGain = nowGain\n",
    "                maxKey = key\n",
    "        sets = getVals(data,maxKey)\n",
    "        for val in sets:\n",
    "            node = DTNode()\n",
    "            node.key = maxKey\n",
    "            node.val = val\n",
    "            childrenData = []\n",
    "            for sample in data:\n",
    "                if(sample[key]==val):\n",
    "                    childrenData.append(sample)\n",
    "            node.data = childrenData\n",
    "            parentNode.children.append(node)\n",
    "            build(node)\n",
    "    def trainModel(self,dataset):\n",
    "        print('---train decisionTree Model---\\n')\n",
    "        self.DTRoot.data = dataset\n",
    "        build(self.DTRoot)"
   ]
  },
  {
   "cell_type": "code",
   "execution_count": 118,
   "metadata": {
    "collapsed": false,
    "scrolled": true
   },
   "outputs": [
    {
     "name": "stdout",
     "output_type": "stream",
     "text": [
      "---train decisionTree Model---\n",
      "\n",
      "p0 : 0.55\n",
      "p1 : 0.45\n",
      "p0 : 0.333333333333\n",
      "p1 : 0.666666666667\n",
      "p0 : 0.6\n",
      "p1 : 0.4\n",
      "p0 : 0.666666666667\n",
      "p1 : 0.333333333333\n",
      "p0 : 0.75\n",
      "p1 : 0.25\n",
      "p0 : 0.5\n",
      "p1 : 0.5\n",
      "p0 : 0.55\n",
      "p1 : 0.45\n",
      "p0 : 0.6\n",
      "p1 : 0.4\n",
      "p0 : 0.555555555556\n",
      "p1 : 0.444444444444\n",
      "p0 : 0.5\n",
      "p1 : 0.5\n"
     ]
    },
    {
     "ename": "AttributeError",
     "evalue": "'list' object has no attribute 'needSplit'",
     "output_type": "error",
     "traceback": [
      "\u001b[1;31m---------------------------------------------------------------------------\u001b[0m",
      "\u001b[1;31mAttributeError\u001b[0m                            Traceback (most recent call last)",
      "\u001b[1;32m<ipython-input-118-d499a2d9b8b6>\u001b[0m in \u001b[0;36m<module>\u001b[1;34m()\u001b[0m\n\u001b[0;32m      1\u001b[0m \u001b[0mdecisionTree\u001b[0m \u001b[1;33m=\u001b[0m \u001b[0mDTModel\u001b[0m\u001b[1;33m(\u001b[0m\u001b[1;33m)\u001b[0m\u001b[1;33m\u001b[0m\u001b[0m\n\u001b[1;32m----> 2\u001b[1;33m \u001b[0mdecisionTree\u001b[0m\u001b[1;33m.\u001b[0m\u001b[0mtrainModel\u001b[0m\u001b[1;33m(\u001b[0m\u001b[0mdataset\u001b[0m\u001b[1;33m)\u001b[0m\u001b[1;33m\u001b[0m\u001b[0m\n\u001b[0m",
      "\u001b[1;32m<ipython-input-111-4657fc24f948>\u001b[0m in \u001b[0;36mtrainModel\u001b[1;34m(self, dataset)\u001b[0m\n\u001b[0;32m     35\u001b[0m         \u001b[1;32mprint\u001b[0m\u001b[1;33m(\u001b[0m\u001b[1;34m'---train decisionTree Model---\\n'\u001b[0m\u001b[1;33m)\u001b[0m\u001b[1;33m\u001b[0m\u001b[0m\n\u001b[0;32m     36\u001b[0m         \u001b[0mself\u001b[0m\u001b[1;33m.\u001b[0m\u001b[0mDTRoot\u001b[0m\u001b[1;33m.\u001b[0m\u001b[0mdata\u001b[0m \u001b[1;33m=\u001b[0m \u001b[0mdataset\u001b[0m\u001b[1;33m\u001b[0m\u001b[0m\n\u001b[1;32m---> 37\u001b[1;33m         \u001b[0mself\u001b[0m\u001b[1;33m.\u001b[0m\u001b[0mbuild\u001b[0m\u001b[1;33m(\u001b[0m\u001b[0mself\u001b[0m\u001b[1;33m.\u001b[0m\u001b[0mDTRoot\u001b[0m\u001b[1;33m)\u001b[0m\u001b[1;33m\u001b[0m\u001b[0m\n\u001b[0m",
      "\u001b[1;32m<ipython-input-111-4657fc24f948>\u001b[0m in \u001b[0;36mbuild\u001b[1;34m(self, parentNode)\u001b[0m\n\u001b[0;32m     31\u001b[0m             \u001b[0mnode\u001b[0m\u001b[1;33m.\u001b[0m\u001b[0mdata\u001b[0m \u001b[1;33m=\u001b[0m \u001b[0mchildrenData\u001b[0m\u001b[1;33m\u001b[0m\u001b[0m\n\u001b[0;32m     32\u001b[0m             \u001b[0mparentNode\u001b[0m\u001b[1;33m.\u001b[0m\u001b[0mchildren\u001b[0m\u001b[1;33m.\u001b[0m\u001b[0mappend\u001b[0m\u001b[1;33m(\u001b[0m\u001b[0mnode\u001b[0m\u001b[1;33m)\u001b[0m\u001b[1;33m\u001b[0m\u001b[0m\n\u001b[1;32m---> 33\u001b[1;33m             \u001b[0mself\u001b[0m\u001b[1;33m.\u001b[0m\u001b[0mbuild\u001b[0m\u001b[1;33m(\u001b[0m\u001b[0mnode\u001b[0m\u001b[1;33m)\u001b[0m\u001b[1;33m\u001b[0m\u001b[0m\n\u001b[0m\u001b[0;32m     34\u001b[0m     \u001b[1;32mdef\u001b[0m \u001b[0mtrainModel\u001b[0m\u001b[1;33m(\u001b[0m\u001b[0mself\u001b[0m\u001b[1;33m,\u001b[0m\u001b[0mdataset\u001b[0m\u001b[1;33m)\u001b[0m\u001b[1;33m:\u001b[0m\u001b[1;33m\u001b[0m\u001b[0m\n\u001b[0;32m     35\u001b[0m         \u001b[1;32mprint\u001b[0m\u001b[1;33m(\u001b[0m\u001b[1;34m'---train decisionTree Model---\\n'\u001b[0m\u001b[1;33m)\u001b[0m\u001b[1;33m\u001b[0m\u001b[0m\n",
      "\u001b[1;32m<ipython-input-111-4657fc24f948>\u001b[0m in \u001b[0;36mbuild\u001b[1;34m(self, parentNode)\u001b[0m\n\u001b[0;32m     12\u001b[0m     \u001b[1;32mdef\u001b[0m \u001b[0mbuild\u001b[0m\u001b[1;33m(\u001b[0m\u001b[0mself\u001b[0m\u001b[1;33m,\u001b[0m\u001b[0mparentNode\u001b[0m\u001b[1;33m)\u001b[0m\u001b[1;33m:\u001b[0m\u001b[1;33m\u001b[0m\u001b[0m\n\u001b[0;32m     13\u001b[0m         \u001b[0mdata\u001b[0m \u001b[1;33m=\u001b[0m \u001b[0mparentNode\u001b[0m\u001b[1;33m.\u001b[0m\u001b[0mdata\u001b[0m\u001b[1;33m\u001b[0m\u001b[0m\n\u001b[1;32m---> 14\u001b[1;33m         \u001b[1;32mif\u001b[0m\u001b[1;33m(\u001b[0m\u001b[1;32mnot\u001b[0m \u001b[0mdata\u001b[0m\u001b[1;33m.\u001b[0m\u001b[0mneedSplit\u001b[0m\u001b[1;33m(\u001b[0m\u001b[1;33m)\u001b[0m\u001b[1;33m)\u001b[0m\u001b[1;33m:\u001b[0m\u001b[1;33m\u001b[0m\u001b[0m\n\u001b[0m\u001b[0;32m     15\u001b[0m             \u001b[1;32mreturn\u001b[0m\u001b[1;33m\u001b[0m\u001b[0m\n\u001b[0;32m     16\u001b[0m         \u001b[0mmaxGain\u001b[0m\u001b[1;33m=\u001b[0m\u001b[1;36m0\u001b[0m\u001b[1;33m\u001b[0m\u001b[0m\n",
      "\u001b[1;31mAttributeError\u001b[0m: 'list' object has no attribute 'needSplit'"
     ]
    }
   ],
   "source": [
    "decisionTree = DTModel()\n",
    "decisionTree.trainModel(dataset)"
   ]
  },
  {
   "cell_type": "code",
   "execution_count": null,
   "metadata": {
    "collapsed": true
   },
   "outputs": [],
   "source": []
  }
 ],
 "metadata": {
  "kernelspec": {
   "display_name": "Python 2",
   "language": "python",
   "name": "python2"
  },
  "language_info": {
   "codemirror_mode": {
    "name": "ipython",
    "version": 2
   },
   "file_extension": ".py",
   "mimetype": "text/x-python",
   "name": "python",
   "nbconvert_exporter": "python",
   "pygments_lexer": "ipython2",
   "version": "2.7.11"
  }
 },
 "nbformat": 4,
 "nbformat_minor": 0
}
