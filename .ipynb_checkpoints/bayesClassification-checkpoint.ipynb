{
 "cells": [
  {
   "cell_type": "code",
   "execution_count": 1,
   "metadata": {
    "collapsed": true,
    "nbpresent": {
     "id": "77af9476-8cff-4899-9d83-60ff1337f26e"
    }
   },
   "outputs": [],
   "source": [
    "import caffe"
   ]
  },
  {
   "cell_type": "code",
   "execution_count": 2,
   "metadata": {
    "collapsed": false,
    "nbpresent": {
     "id": "47c8c794-19b0-46c7-9a3a-79f5dfbaa460"
    }
   },
   "outputs": [],
   "source": [
    "# set up Python environment: numpy for numerical routines, and matplotlib for plotting\n",
    "import numpy as np\n",
    "import matplotlib.pyplot as plt\n",
    "# display plots in this notebook\n",
    "%matplotlib inline\n",
    "\n",
    "# set display defaults\n",
    "plt.rcParams['figure.figsize'] = (10, 10)        # large images\n",
    "plt.rcParams['image.interpolation'] = 'nearest'  # don't interpolate: show square pixels\n",
    "plt.rcParams['image.cmap'] = 'gray'  # use grayscale output rather than a (potentially misleading) color heatmap\n",
    "import pandas as pd"
   ]
  },
  {
   "cell_type": "code",
   "execution_count": 20,
   "metadata": {
    "collapsed": true,
    "nbpresent": {
     "id": "bec941e1-92a3-485e-9fcc-31dfc129ed46"
    }
   },
   "outputs": [],
   "source": [
    "names = ['age','workclass','fnlwgt','education','education-num','marital-status','occupation','relationship','race','sex','capital-gain','capital-loss','hours-per-week','native-country','label']\n",
    "trainData = pd.read_table('adult.data',names=names,sep=',',index_col=None)"
   ]
  },
  {
   "cell_type": "code",
   "execution_count": 22,
   "metadata": {
    "collapsed": false,
    "nbpresent": {
     "id": "b85e6494-55b4-443a-8521-0886b8fc7708"
    }
   },
   "outputs": [
    {
     "data": {
      "text/html": [
       "<div>\n",
       "<table border=\"1\" class=\"dataframe\">\n",
       "  <thead>\n",
       "    <tr style=\"text-align: right;\">\n",
       "      <th></th>\n",
       "      <th>age</th>\n",
       "      <th>workclass</th>\n",
       "      <th>fnlwgt</th>\n",
       "      <th>education</th>\n",
       "      <th>education-num</th>\n",
       "      <th>marital-status</th>\n",
       "      <th>occupation</th>\n",
       "      <th>relationship</th>\n",
       "      <th>race</th>\n",
       "      <th>sex</th>\n",
       "      <th>capital-gain</th>\n",
       "      <th>capital-loss</th>\n",
       "      <th>hours-per-week</th>\n",
       "      <th>native-country</th>\n",
       "      <th>label</th>\n",
       "    </tr>\n",
       "  </thead>\n",
       "  <tbody>\n",
       "    <tr>\n",
       "      <th>0</th>\n",
       "      <td>39</td>\n",
       "      <td>State-gov</td>\n",
       "      <td>77516</td>\n",
       "      <td>Bachelors</td>\n",
       "      <td>13</td>\n",
       "      <td>Never-married</td>\n",
       "      <td>Adm-clerical</td>\n",
       "      <td>Not-in-family</td>\n",
       "      <td>White</td>\n",
       "      <td>Male</td>\n",
       "      <td>2174</td>\n",
       "      <td>0</td>\n",
       "      <td>40</td>\n",
       "      <td>United-States</td>\n",
       "      <td>&lt;=50K</td>\n",
       "    </tr>\n",
       "    <tr>\n",
       "      <th>1</th>\n",
       "      <td>50</td>\n",
       "      <td>Self-emp-not-inc</td>\n",
       "      <td>83311</td>\n",
       "      <td>Bachelors</td>\n",
       "      <td>13</td>\n",
       "      <td>Married-civ-spouse</td>\n",
       "      <td>Exec-managerial</td>\n",
       "      <td>Husband</td>\n",
       "      <td>White</td>\n",
       "      <td>Male</td>\n",
       "      <td>0</td>\n",
       "      <td>0</td>\n",
       "      <td>13</td>\n",
       "      <td>United-States</td>\n",
       "      <td>&lt;=50K</td>\n",
       "    </tr>\n",
       "    <tr>\n",
       "      <th>2</th>\n",
       "      <td>38</td>\n",
       "      <td>Private</td>\n",
       "      <td>215646</td>\n",
       "      <td>HS-grad</td>\n",
       "      <td>9</td>\n",
       "      <td>Divorced</td>\n",
       "      <td>Handlers-cleaners</td>\n",
       "      <td>Not-in-family</td>\n",
       "      <td>White</td>\n",
       "      <td>Male</td>\n",
       "      <td>0</td>\n",
       "      <td>0</td>\n",
       "      <td>40</td>\n",
       "      <td>United-States</td>\n",
       "      <td>&lt;=50K</td>\n",
       "    </tr>\n",
       "    <tr>\n",
       "      <th>3</th>\n",
       "      <td>53</td>\n",
       "      <td>Private</td>\n",
       "      <td>234721</td>\n",
       "      <td>11th</td>\n",
       "      <td>7</td>\n",
       "      <td>Married-civ-spouse</td>\n",
       "      <td>Handlers-cleaners</td>\n",
       "      <td>Husband</td>\n",
       "      <td>Black</td>\n",
       "      <td>Male</td>\n",
       "      <td>0</td>\n",
       "      <td>0</td>\n",
       "      <td>40</td>\n",
       "      <td>United-States</td>\n",
       "      <td>&lt;=50K</td>\n",
       "    </tr>\n",
       "    <tr>\n",
       "      <th>4</th>\n",
       "      <td>28</td>\n",
       "      <td>Private</td>\n",
       "      <td>338409</td>\n",
       "      <td>Bachelors</td>\n",
       "      <td>13</td>\n",
       "      <td>Married-civ-spouse</td>\n",
       "      <td>Prof-specialty</td>\n",
       "      <td>Wife</td>\n",
       "      <td>Black</td>\n",
       "      <td>Female</td>\n",
       "      <td>0</td>\n",
       "      <td>0</td>\n",
       "      <td>40</td>\n",
       "      <td>Cuba</td>\n",
       "      <td>&lt;=50K</td>\n",
       "    </tr>\n",
       "  </tbody>\n",
       "</table>\n",
       "</div>"
      ],
      "text/plain": [
       "   age          workclass  fnlwgt   education  education-num  \\\n",
       "0   39          State-gov   77516   Bachelors             13   \n",
       "1   50   Self-emp-not-inc   83311   Bachelors             13   \n",
       "2   38            Private  215646     HS-grad              9   \n",
       "3   53            Private  234721        11th              7   \n",
       "4   28            Private  338409   Bachelors             13   \n",
       "\n",
       "        marital-status          occupation    relationship    race      sex  \\\n",
       "0        Never-married        Adm-clerical   Not-in-family   White     Male   \n",
       "1   Married-civ-spouse     Exec-managerial         Husband   White     Male   \n",
       "2             Divorced   Handlers-cleaners   Not-in-family   White     Male   \n",
       "3   Married-civ-spouse   Handlers-cleaners         Husband   Black     Male   \n",
       "4   Married-civ-spouse      Prof-specialty            Wife   Black   Female   \n",
       "\n",
       "   capital-gain  capital-loss  hours-per-week  native-country   label  \n",
       "0          2174             0              40   United-States   <=50K  \n",
       "1             0             0              13   United-States   <=50K  \n",
       "2             0             0              40   United-States   <=50K  \n",
       "3             0             0              40   United-States   <=50K  \n",
       "4             0             0              40            Cuba   <=50K  "
      ]
     },
     "execution_count": 22,
     "metadata": {},
     "output_type": "execute_result"
    }
   ],
   "source": [
    "trainData.head()"
   ]
  },
  {
   "cell_type": "code",
   "execution_count": 60,
   "metadata": {
    "collapsed": false,
    "nbpresent": {
     "id": "331140c8-3bf3-459c-a57b-9ce9662603ac"
    }
   },
   "outputs": [
    {
     "data": {
      "text/plain": [
       "array([' State-gov', ' Self-emp-not-inc', ' Private', ' Federal-gov',\n",
       "       ' Local-gov', ' ?', ' Self-emp-inc', ' Without-pay', ' Never-worked'], dtype=object)"
      ]
     },
     "execution_count": 60,
     "metadata": {},
     "output_type": "execute_result"
    }
   ],
   "source": [
    "trainData['workclass'].unique()"
   ]
  },
  {
   "cell_type": "code",
   "execution_count": null,
   "metadata": {
    "collapsed": true
   },
   "outputs": [],
   "source": [
    "class Data:\n",
    "    \n",
    "    def __init__(self,data):\n",
    "#         data should be a table\n",
    "        self.trainData = data\n",
    "#     store all discrete attr (names)\n",
    "        self.discreteAttr = []\n",
    "#     the same as before(names)\n",
    "        self.continuousAttr = []\n",
    "#     length\n",
    "        self.length = data.size\n",
    "#     negative samples\n",
    "        self.nLength = data[data['label']==' <=50K'].size\n",
    "#     positive samples\n",
    "        self.pLength = self.length - self.nLength\n",
    "#     positive probability\n",
    "        self.positiveProbability = float(self.pLength)/self.length \n",
    "#         negativeProbability\n",
    "        self.negativeProbability = 1 - self.positiveProbability\n",
    "#         positive trainData\n",
    "        self.positiveTrainData = data[data['label']==' >50K']\n",
    "#         negative trainData\n",
    "        self.negativeTrainData = \n",
    "        self.attrHandle()\n",
    "#         probability[attrValue][label]\n",
    "        self.probability = []\n",
    "#     all attributions value\n",
    "# attr={'attrName':['all attr values(string)'],}\n",
    "        self.attrValues = {}\n",
    "    \n",
    "    def attrHandle(self):\n",
    "#         get one sample from data\n",
    "        one = self.trainData.loc[0]\n",
    "    \n",
    "#      names of all attributions\n",
    "        names = one.index\n",
    "#         search for all continuous attributions and discretization\n",
    "#         for discrete attributions convert string to index\n",
    "        for i in range(names.size):\n",
    "#             check if it is descrete\n",
    "            if(type(one[i])==str):\n",
    "        \n",
    "                self.discreteAttr.append(names[i])\n",
    "            else:\n",
    "                self.continuousAttr.append(names[i])\n",
    "\n",
    "# for continuous attr\n",
    "    def discretization(self):\n",
    "        \n",
    "        pass\n",
    "    \n",
    "#     convert discrete attr to number\n",
    "#     def discreteToNumer(self):\n",
    "#         pass\n",
    "    \n",
    "#     get self.attrValues\n",
    "    def discreteHandle(self):\n",
    "        for attr in discreteAttr:\n",
    "            self.attrValues[attr] = self.trainData[attr].unique()\n",
    "    \n",
    "    def continuousHandle(self):\n",
    "        \n",
    "        discretization()\n",
    "        for attr in continuousAttr:\n",
    "            self.attrValues[attr] = self.trainData[attr].unique()\n",
    "    \n",
    "    def calculateProbabilityAndSave(self):\n",
    "        attrValues = self.attrValues\n",
    "        for key in attrValues:\n",
    "            for attrValue in attrValues[key]:\n",
    "                \n",
    "                probability[attrValue][0] = self.trainData[self.trainData[key]==attrValue]/self.nLength\n",
    "    \n",
    "    "
   ]
  },
  {
   "cell_type": "code",
   "execution_count": null,
   "metadata": {
    "collapsed": true
   },
   "outputs": [],
   "source": [
    "# class Attr:\n",
    "#     def __init__(self):\n",
    "# #         attr={'attrName':['all attr values(string)'],}\n",
    "#         self.attr = {}\n",
    "attrValues = ['']"
   ]
  },
  {
   "cell_type": "code",
   "execution_count": null,
   "metadata": {
    "collapsed": true
   },
   "outputs": [],
   "source": [
    "def predict(attr,data):\n",
    "#     proMax = 0\n",
    "    positiveProbability = data.positiveProbability\n",
    "    p1 = positiveProbability\n",
    "    p2 = 1 - positiveProbability\n",
    "    \n",
    "    for attrValue in attr:\n",
    "            p1 *=data.probability[attrValue][0]\n",
    "            p2 *=data.probability[attrValue][1]\n",
    "    if(p1>p2):\n",
    "        return ' >50K'\n",
    "    else:\n",
    "        return ' <=50K'\n",
    "    "
   ]
  }
 ],
 "metadata": {
  "kernelspec": {
   "display_name": "Python [Root]",
   "language": "python",
   "name": "Python [Root]"
  },
  "language_info": {
   "codemirror_mode": {
    "name": "ipython",
    "version": 2
   },
   "file_extension": ".py",
   "mimetype": "text/x-python",
   "name": "python",
   "nbconvert_exporter": "python",
   "pygments_lexer": "ipython2",
   "version": "2.7.12"
  },
  "nbpresent": {
   "slides": {
    "dd3079e0-d188-4cdd-b3d6-2132c64b25cc": {
     "id": "dd3079e0-d188-4cdd-b3d6-2132c64b25cc",
     "prev": null,
     "regions": {
      "2ec73c0f-d3d2-40b1-a731-45d653f789a1": {
       "attrs": {
        "height": 0.8,
        "width": 0.45,
        "x": 0.05,
        "y": 0.1
       },
       "id": "2ec73c0f-d3d2-40b1-a731-45d653f789a1"
      },
      "89d829c1-c052-407c-a169-ab15e0b68167": {
       "attrs": {
        "height": 0.8,
        "width": 0.45,
        "x": 0.5,
        "y": 0.1
       },
       "id": "89d829c1-c052-407c-a169-ab15e0b68167"
      }
     }
    }
   },
   "themes": {}
  }
 },
 "nbformat": 4,
 "nbformat_minor": 0
}
